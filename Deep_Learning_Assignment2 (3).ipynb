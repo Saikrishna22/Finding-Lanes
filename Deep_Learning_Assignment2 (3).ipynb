{
  "cells": [
    {
      "cell_type": "markdown",
      "metadata": {
        "id": "9bda93ba"
      },
      "source": [
        "## Group No : 167\n",
        "\n",
        "## Group Member Names:\n",
        "1. MANU JOSE <2021fc04342@wilp.bits-pilani.ac.in>\n",
        "2. MATHEW STEPHEN <2021fc04270@wilp.bits-pilani.ac.in >\n",
        "3. SAI KRISHNA R <2021fc04274@wilp.bits-pilani.ac.in>"
      ]
    },
    {
      "cell_type": "code",
      "source": [
        "from google.colab import drive\n",
        "drive.mount('/content/drive')"
      ],
      "metadata": {
        "id": "2_u6T1McyG3c"
      },
      "execution_count": null,
      "outputs": []
    },
    {
      "cell_type": "markdown",
      "metadata": {
        "id": "3298e121"
      },
      "source": [
        "### Problem Statement\n",
        "\n",
        "### Dataset"
      ]
    },
    {
      "cell_type": "code",
      "execution_count": 51,
      "metadata": {
        "id": "4lFQMIl8OwFk"
      },
      "outputs": [],
      "source": [
        "## Import packages\n",
        "import numpy as np\n",
        "import pandas as pd\n",
        "from keras.models import Sequential\n",
        "from keras.layers import Dense\n",
        "from keras.layers import Flatten\n",
        "from keras.layers import Dropout\n",
        "from keras.layers import LSTM\n",
        "from keras.layers.convolutional import Conv1D\n",
        "from keras.layers.convolutional import MaxPooling1D\n",
        "from tensorflow.keras.utils import to_categorical\n",
        "from matplotlib import pyplot\n",
        "import matplotlib.pyplot as plt\n",
        "from keras.utils.vis_utils import plot_model\n",
        "import keras\n",
        "import zipfile\n",
        "from sklearn.metrics import confusion_matrix, classification_report\n",
        "import seaborn as sns\n",
        "np.random.seed(0)\n",
        "from datetime import datetime as dt"
      ]
    },
    {
      "cell_type": "markdown",
      "source": [
        "#### Data Processing"
      ],
      "metadata": {
        "id": "2DhpJ56Pf1ir"
      }
    },
    {
      "cell_type": "code",
      "execution_count": 2,
      "metadata": {
        "id": "YpLhl_-pUNsP"
      },
      "outputs": [],
      "source": [
        "## text file to dataframe\n",
        "def dataframe_txt(s):\n",
        "    df = pd.read_csv(s, header=None, delim_whitespace=True)\n",
        "    return df.values"
      ]
    },
    {
      "cell_type": "code",
      "execution_count": 24,
      "metadata": {
        "id": "20fpgrDVUN0z"
      },
      "outputs": [],
      "source": [
        "# load a dataset group, such as train or test\n",
        "def data_file_load(type):\n",
        "  path = '/content/drive/MyDrive/Bits/Sem 3/dl_assignment 2/UCI HAR Dataset/UCI HAR Dataset/'\n",
        "  filepath = path + type + '/Inertial Signals/'\n",
        "  filenames = list()\n",
        "\t# total acceleration\n",
        "  filenames += ['total_acc_x_'+type+'.txt', 'total_acc_y_'+type+'.txt', 'total_acc_z_'+type+'.txt']\n",
        "\t# body acceleration\n",
        "  filenames += ['body_acc_x_'+type+'.txt', 'body_acc_y_'+type+'.txt', 'body_acc_z_'+type+'.txt']\n",
        "\t# body gyroscope\n",
        "  filenames += ['body_gyro_x_'+type+'.txt', 'body_gyro_y_'+type+'.txt', 'body_gyro_z_'+type+'.txt']\n",
        "  loaded = list()\n",
        "  for name in filenames:\n",
        "    data = dataframe_txt(filepath + name)\n",
        "    loaded.append(data)\n",
        "\t# stack type so that features are the 3rd dimension\n",
        "  X = np.dstack(loaded)\n",
        "  y = dataframe_txt(path + type + '/y_'+type+'.txt')\n",
        "  return X, y"
      ]
    },
    {
      "cell_type": "code",
      "execution_count": 25,
      "metadata": {
        "id": "7C2p5rrtUN3i"
      },
      "outputs": [],
      "source": [
        "## Loading files into train and test variables\n",
        "def train_test_data():\n",
        "    trainX, trainy = data_file_load('train')\n",
        "    testX, testy = data_file_load('test')\n",
        "    trainy = trainy - 1\n",
        "    testy = testy - 1\n",
        "    print(\"train X data shape: \",trainX.shape)\n",
        "    print(\"train y data shape: \", trainy.shape)\n",
        "    print(\"test X data shape: \", testX.shape)\n",
        "    print(\"test y data shape: \", testy.shape)\n",
        "    return trainX, trainy, testX, testy"
      ]
    },
    {
      "cell_type": "code",
      "execution_count": 26,
      "metadata": {
        "colab": {
          "base_uri": "https://localhost:8080/"
        },
        "id": "sFhIgaZbUN6D",
        "outputId": "c97f98ae-17e4-4005-c8f1-67ccaaf6241a"
      },
      "outputs": [
        {
          "output_type": "stream",
          "name": "stdout",
          "text": [
            "train X data shape:  (7352, 128, 9)\n",
            "train y data shape:  (7352, 1)\n",
            "test X data shape:  (2947, 128, 9)\n",
            "test y data shape:  (2947, 1)\n"
          ]
        }
      ],
      "source": [
        "train_x, train_y, test_x, test_y = train_test_data()"
      ]
    },
    {
      "cell_type": "code",
      "source": [
        "## count of each target variables present in the training dataset\n",
        "sns.countplot(np.squeeze(train_y))"
      ],
      "metadata": {
        "colab": {
          "base_uri": "https://localhost:8080/",
          "height": 339
        },
        "id": "O5sVzZwk6f-U",
        "outputId": "cf70bae4-8e6f-45b7-99d4-d349544ebb32"
      },
      "execution_count": 17,
      "outputs": [
        {
          "output_type": "stream",
          "name": "stderr",
          "text": [
            "/usr/local/lib/python3.9/dist-packages/seaborn/_decorators.py:36: FutureWarning: Pass the following variable as a keyword arg: x. From version 0.12, the only valid positional argument will be `data`, and passing other arguments without an explicit keyword will result in an error or misinterpretation.\n",
            "  warnings.warn(\n"
          ]
        },
        {
          "output_type": "execute_result",
          "data": {
            "text/plain": [
              "<AxesSubplot:ylabel='count'>"
            ]
          },
          "metadata": {},
          "execution_count": 17
        },
        {
          "output_type": "display_data",
          "data": {
            "text/plain": [
              "<Figure size 432x288 with 1 Axes>"
            ],
            "image/png": "[encoded data removed]"
          },
          "metadata": {
            "needs_background": "light"
          }
        }
      ]
    },
    {
      "cell_type": "code",
      "source": [
        "## count of each target variables present in the testing dataset\n",
        "sns.countplot(np.squeeze(test_y))"
      ],
      "metadata": {
        "colab": {
          "base_uri": "https://localhost:8080/",
          "height": 339
        },
        "id": "hy1fF6Wz6gMB",
        "outputId": "34e2fcf8-c1a4-44c7-bb8c-32de07696a9c"
      },
      "execution_count": 18,
      "outputs": [
        {
          "output_type": "stream",
          "name": "stderr",
          "text": [
            "/usr/local/lib/python3.9/dist-packages/seaborn/_decorators.py:36: FutureWarning: Pass the following variable as a keyword arg: x. From version 0.12, the only valid positional argument will be `data`, and passing other arguments without an explicit keyword will result in an error or misinterpretation.\n",
            "  warnings.warn(\n"
          ]
        },
        {
          "output_type": "execute_result",
          "data": {
            "text/plain": [
              "<AxesSubplot:ylabel='count'>"
            ]
          },
          "metadata": {},
          "execution_count": 18
        },
        {
          "output_type": "display_data",
          "data": {
            "text/plain": [
              "<Figure size 432x288 with 1 Axes>"
            ],
            "image/png": "[encoded data removed]"
          },
          "metadata": {
            "needs_background": "light"
          }
        }
      ]
    },
    {
      "cell_type": "code",
      "source": [
        "## Total acceleartion on X axis for a particular timestep by person - 1\n",
        "sns.displot(train_x[0,:,1])"
      ],
      "metadata": {
        "colab": {
          "base_uri": "https://localhost:8080/",
          "height": 387
        },
        "id": "_f1dkEZD7mgb",
        "outputId": "279d6dcb-abe3-47a8-8e42-2786ba196d04"
      },
      "execution_count": 44,
      "outputs": [
        {
          "output_type": "execute_result",
          "data": {
            "text/plain": [
              "<seaborn.axisgrid.FacetGrid at 0x7f3930fd90d0>"
            ]
          },
          "metadata": {},
          "execution_count": 44
        },
        {
          "output_type": "display_data",
          "data": {
            "text/plain": [
              "<Figure size 360x360 with 1 Axes>"
            ],
            "image/png": "[encoded data removed]"
          },
          "metadata": {
            "needs_background": "light"
          }
        }
      ]
    },
    {
      "cell_type": "code",
      "source": [
        "## Total acceleartion on Y axis for a particular timestep by person - 0\n",
        "sns.displot(train_x[1,:,1])"
      ],
      "metadata": {
        "colab": {
          "base_uri": "https://localhost:8080/",
          "height": 387
        },
        "id": "GpMouEqJ7mi8",
        "outputId": "3b5b6213-ede1-4f59-caab-0884d211a394"
      },
      "execution_count": 43,
      "outputs": [
        {
          "output_type": "execute_result",
          "data": {
            "text/plain": [
              "<seaborn.axisgrid.FacetGrid at 0x7f39316b1fa0>"
            ]
          },
          "metadata": {},
          "execution_count": 43
        },
        {
          "output_type": "display_data",
          "data": {
            "text/plain": [
              "<Figure size 360x360 with 1 Axes>"
            ],
            "image/png": "[encoded data removed]"
          },
          "metadata": {
            "needs_background": "light"
          }
        }
      ]
    },
    {
      "cell_type": "code",
      "source": [
        "## Total acceleartion on Z axis for a particular timestep by person - 1\n",
        "sns.displot(train_x[0,:,2])"
      ],
      "metadata": {
        "colab": {
          "base_uri": "https://localhost:8080/",
          "height": 387
        },
        "id": "nr_VOtET7mlc",
        "outputId": "914f46e7-4345-41c8-f14d-87bcfc9962fd"
      },
      "execution_count": 45,
      "outputs": [
        {
          "output_type": "execute_result",
          "data": {
            "text/plain": [
              "<seaborn.axisgrid.FacetGrid at 0x7f3930f7e4c0>"
            ]
          },
          "metadata": {},
          "execution_count": 45
        },
        {
          "output_type": "display_data",
          "data": {
            "text/plain": [
              "<Figure size 360x360 with 1 Axes>"
            ],
            "image/png": "[encoded data removed]"
          },
          "metadata": {
            "needs_background": "light"
          }
        }
      ]
    },
    {
      "cell_type": "code",
      "execution_count": 56,
      "metadata": {
        "id": "uB3f3Feb-NN3"
      },
      "outputs": [],
      "source": [
        "## Changing class labels into a suitable categorical format\n",
        "train_y = to_categorical(train_y)\n",
        "test_y = to_categorical(test_y)"
      ]
    },
    {
      "cell_type": "markdown",
      "source": [
        "#### Model Building"
      ],
      "metadata": {
        "id": "bW15pzq_4f4Q"
      }
    },
    {
      "cell_type": "code",
      "execution_count": 67,
      "metadata": {
        "id": "pD1VPcmx-NQl"
      },
      "outputs": [],
      "source": [
        "num_timesteps, num_features = train_x.shape[1], train_x.shape[2]\n",
        "model = Sequential()\n",
        "model.add(LSTM(256, input_shape=(num_timesteps,num_features),return_sequences = True))\n",
        "model.add(Dropout(0.2))\n",
        "model.add(LSTM(126,return_sequences = True))\n",
        "model.add(Dropout(0.2))\n",
        "model.add(Conv1D(64, kernel_size=3, padding='valid', kernel_initializer='he_uniform'))\n",
        "model.add(MaxPooling1D(2))\n",
        "model.add(Dropout(0.3))\n",
        "model.add(Conv1D(32, kernel_size=3, padding='valid', kernel_initializer='he_uniform'))\n",
        "model.add(MaxPooling1D(2))\n",
        "model.add(Dropout(0.4))\n",
        "model.add(Flatten())\n",
        "model.add(Dense(100, activation='relu'))\n",
        "model.add(Dense(6, activation='softmax'))"
      ]
    },
    {
      "cell_type": "markdown",
      "source": [
        "Justification - \n",
        "1. Total Number of layers - 13, SLTM layers - 2, 1D CNN layers - 2, Maxpooling layers - 2, dense layers - 2, dropuout layers - 4\n",
        "2. Activation function used in each hidden layer is 'relu' . ReLU\n",
        "is used as it is computationally efficient and does not suffer\n",
        "from the vanishing gradient problem.\n",
        "3. Activation function used in the output layer is 'Softmax'.\n",
        "Sigmoid is used as it is a multi class classification problem.\n",
        "4. Total number of trainable parameters - 592,554 .\n",
        "5. Dropout probability size in each layer is decided by the effect present on the overfitting percentage on validation accuracy\n"
      ],
      "metadata": {
        "id": "pmf7rQ4oB4ws"
      }
    },
    {
      "cell_type": "code",
      "source": [
        "#plotting model\n",
        "plot_model(model, show_shapes=True, show_layer_names=True)"
      ],
      "metadata": {
        "colab": {
          "base_uri": "https://localhost:8080/",
          "height": 1000
        },
        "id": "eiJtB0VFARR0",
        "outputId": "a8352923-3e70-44de-c669-d23296c473e0"
      },
      "execution_count": 68,
      "outputs": [
        {
          "output_type": "execute_result",
          "data": {
            "image/png": "[encoded data removed]",
            "text/plain": [
              "<IPython.core.display.Image object>"
            ]
          },
          "metadata": {},
          "execution_count": 68
        }
      ]
    },
    {
      "cell_type": "code",
      "execution_count": 69,
      "metadata": {
        "id": "_kdr4KG0-NTY"
      },
      "outputs": [],
      "source": [
        "##  Choosing Adam as the optimizer\n",
        "opt = keras.optimizers.Adam(learning_rate=0.001)\n",
        "## Compiling the built model\n",
        "model.compile(loss='categorical_crossentropy', optimizer=opt, metrics=['accuracy'])"
      ]
    },
    {
      "cell_type": "markdown",
      "source": [
        "Justification:\n",
        "1. Optimizer\n",
        "2.Learning rate\n",
        "3.loss function"
      ],
      "metadata": {
        "id": "9T2DHth0FcUh"
      }
    },
    {
      "cell_type": "code",
      "source": [
        "## summary of the model\n",
        "model.summary()"
      ],
      "metadata": {
        "colab": {
          "base_uri": "https://localhost:8080/"
        },
        "id": "PbwmBpvwBZoL",
        "outputId": "32f44ca3-6f43-4b0a-c1b0-a02ebf0a2c19"
      },
      "execution_count": 70,
      "outputs": [
        {
          "output_type": "stream",
          "name": "stdout",
          "text": [
            "Model: \"sequential_3\"\n",
            "_________________________________________________________________\n",
            " Layer (type)                Output Shape              Param #   \n",
            "=================================================================\n",
            " lstm_6 (LSTM)               (None, 128, 256)          272384    \n",
            "                                                                 \n",
            " dropout_12 (Dropout)        (None, 128, 256)          0         \n",
            "                                                                 \n",
            " lstm_7 (LSTM)               (None, 128, 126)          193032    \n",
            "                                                                 \n",
            " dropout_13 (Dropout)        (None, 128, 126)          0         \n",
            "                                                                 \n",
            " conv1d_6 (Conv1D)           (None, 126, 64)           24256     \n",
            "                                                                 \n",
            " max_pooling1d_6 (MaxPooling  (None, 63, 64)           0         \n",
            " 1D)                                                             \n",
            "                                                                 \n",
            " dropout_14 (Dropout)        (None, 63, 64)            0         \n",
            "                                                                 \n",
            " conv1d_7 (Conv1D)           (None, 61, 32)            6176      \n",
            "                                                                 \n",
            " max_pooling1d_7 (MaxPooling  (None, 30, 32)           0         \n",
            " 1D)                                                             \n",
            "                                                                 \n",
            " dropout_15 (Dropout)        (None, 30, 32)            0         \n",
            "                                                                 \n",
            " flatten_3 (Flatten)         (None, 960)               0         \n",
            "                                                                 \n",
            " dense_6 (Dense)             (None, 100)               96100     \n",
            "                                                                 \n",
            " dense_7 (Dense)             (None, 6)                 606       \n",
            "                                                                 \n",
            "=================================================================\n",
            "Total params: 592,554\n",
            "Trainable params: 592,554\n",
            "Non-trainable params: 0\n",
            "_________________________________________________________________\n"
          ]
        }
      ]
    },
    {
      "cell_type": "code",
      "execution_count": null,
      "metadata": {
        "colab": {
          "base_uri": "https://localhost:8080/"
        },
        "id": "S2ynVAts-NWP",
        "outputId": "6b7147ba-c980-4ec7-c3a5-dc5d12eead45"
      },
      "outputs": [
        {
          "output_type": "stream",
          "name": "stdout",
          "text": [
            "Epoch 1/20\n",
            "173/173 - 151s - loss: 0.6919 - accuracy: 0.7147 - val_loss: 0.4555 - val_accuracy: 0.8662 - 151s/epoch - 872ms/step\n",
            "Epoch 2/20\n",
            "173/173 - 147s - loss: 0.2199 - accuracy: 0.9117 - val_loss: 0.3559 - val_accuracy: 0.9195 - 147s/epoch - 851ms/step\n",
            "Epoch 3/20\n",
            "173/173 - 147s - loss: 0.1633 - accuracy: 0.9334 - val_loss: 0.3072 - val_accuracy: 0.9091 - 147s/epoch - 848ms/step\n",
            "Epoch 4/20\n"
          ]
        }
      ],
      "source": [
        "start = dt.now()\n",
        "history = model.fit(train_x, train_y, epochs=20, batch_size=32, verbose=2, validation_split=0.25)\n",
        "running_secs = (dt.now() - start).seconds"
      ]
    },
    {
      "cell_type": "code",
      "execution_count": null,
      "metadata": {
        "id": "tIiGW22r-NZB"
      },
      "outputs": [],
      "source": [
        "## Plotting the accuracy and loss graph\n",
        "plt.style.use('seaborn-whitegrid')\n",
        "sns.set(style=\"white\", font_scale = 1.5)\n",
        "fig, axes = plt.subplots(1,2, figsize=(20,5), sharex=True)\n",
        "axes[0].set_title('Loss')\n",
        "axes[0].plot(history.history['loss'], label='train', )\n",
        "axes[0].plot(history.history['val_loss'], label='test')\n",
        "axes[0].legend()\n",
        "#plot accuracy during training\n",
        "axes[1].set_title('Accuracy')\n",
        "axes[1].plot(history.history['accuracy'], label='train')\n",
        "axes[1].plot(history.history['val_accuracy'], label='test')\n",
        "axes[1].legend()\n",
        "plt.show()"
      ]
    },
    {
      "cell_type": "code",
      "execution_count": null,
      "metadata": {
        "id": "ckx8uCgk-NcX"
      },
      "outputs": [],
      "source": [
        "## Evaluating the model\n",
        "print(model.evaluate(test_x,test_y))"
      ]
    },
    {
      "cell_type": "code",
      "source": [
        "# Predicting the test data using the trained model\n",
        "y_pred=model.predict(test_x)"
      ],
      "metadata": {
        "id": "90Xiwh0d9qzx"
      },
      "execution_count": null,
      "outputs": []
    },
    {
      "cell_type": "code",
      "source": [
        "## Confusion matrix for the test data\n",
        "y_pred=np.argmax(y_pred, axis=1)\n",
        "y_test=np.argmax(test_y, axis=1)\n",
        "cm = confusion_matrix(y_test, y_pred)"
      ],
      "metadata": {
        "id": "yP6pvgTUU-aQ"
      },
      "execution_count": null,
      "outputs": []
    },
    {
      "cell_type": "code",
      "execution_count": null,
      "metadata": {
        "id": "KgM9mYJDUN_2"
      },
      "outputs": [],
      "source": [
        "## plotting the confusion matrix\n",
        "plt.figure(figsize=(10,7))\n",
        "sns.heatmap(cm, annot=True,linewidths=0.1, )\n",
        "plt.title('Confusion Matrix')\n",
        "plt.ylabel('Actal Values')\n",
        "plt.xlabel('Predicted Values')\n",
        "plt.show()"
      ]
    },
    {
      "cell_type": "code",
      "execution_count": null,
      "metadata": {
        "id": "uqwqh7RjUOCf"
      },
      "outputs": [],
      "source": [
        "## Classification report\n",
        "target_names = ['WALKING', 'WALKING_UPSTAIRS', 'WALKING_DOWNSTAIRS','SITTING','STANDING','LAYING']\n",
        "print(classification_report(y_test, y_pred, target_names=target_names))"
      ]
    },
    {
      "cell_type": "code",
      "execution_count": null,
      "metadata": {
        "id": "kizuOMqYUOFN"
      },
      "outputs": [],
      "source": [
        "## Total timme take to train the model\n",
        "print(running_secs)"
      ]
    },
    {
      "cell_type": "code",
      "execution_count": null,
      "metadata": {
        "id": "TGKQboFsUOH0"
      },
      "outputs": [],
      "source": []
    },
    {
      "cell_type": "code",
      "execution_count": null,
      "metadata": {
        "id": "mcOwpza0UOKl"
      },
      "outputs": [],
      "source": []
    },
    {
      "cell_type": "code",
      "execution_count": null,
      "metadata": {
        "id": "O_2Fn_KFUONJ"
      },
      "outputs": [],
      "source": []
    },
    {
      "cell_type": "code",
      "execution_count": null,
      "metadata": {
        "id": "DqFg9ES1UOP-"
      },
      "outputs": [],
      "source": []
    },
    {
      "cell_type": "code",
      "execution_count": null,
      "metadata": {
        "id": "THuEDKG2UOSk"
      },
      "outputs": [],
      "source": []
    },
    {
      "cell_type": "code",
      "execution_count": null,
      "metadata": {
        "id": "-GL0sbMJUOVY"
      },
      "outputs": [],
      "source": []
    },
    {
      "cell_type": "code",
      "execution_count": null,
      "metadata": {
        "id": "FOf8FHowUOYO"
      },
      "outputs": [],
      "source": []
    },
    {
      "cell_type": "code",
      "execution_count": null,
      "metadata": {
        "id": "BHiiAm8XUOa7"
      },
      "outputs": [],
      "source": []
    },
    {
      "cell_type": "code",
      "execution_count": null,
      "metadata": {
        "id": "QXfGKPi-UOdo"
      },
      "outputs": [],
      "source": []
    },
    {
      "cell_type": "code",
      "execution_count": null,
      "metadata": {
        "id": "9QaI9Sm0UOge"
      },
      "outputs": [],
      "source": []
    },
    {
      "cell_type": "code",
      "execution_count": null,
      "metadata": {
        "id": "fPjuXk2gUOjY"
      },
      "outputs": [],
      "source": []
    },
    {
      "cell_type": "code",
      "execution_count": null,
      "metadata": {
        "id": "U-o8dyUqUOly"
      },
      "outputs": [],
      "source": []
    },
    {
      "cell_type": "code",
      "execution_count": null,
      "metadata": {
        "id": "pABGJHTqUOoQ"
      },
      "outputs": [],
      "source": []
    },
    {
      "cell_type": "code",
      "execution_count": null,
      "metadata": {
        "id": "TBcrHgE6UOro"
      },
      "outputs": [],
      "source": []
    },
    {
      "cell_type": "code",
      "execution_count": null,
      "metadata": {
        "id": "6pVzizUpUOuL"
      },
      "outputs": [],
      "source": []
    },
    {
      "cell_type": "code",
      "execution_count": null,
      "metadata": {
        "id": "a0bBXhlIUOxS"
      },
      "outputs": [],
      "source": []
    },
    {
      "cell_type": "code",
      "execution_count": null,
      "metadata": {
        "id": "xz5n3-ewUO0B"
      },
      "outputs": [],
      "source": []
    },
    {
      "cell_type": "code",
      "execution_count": null,
      "metadata": {
        "id": "84D-wojLUO3D"
      },
      "outputs": [],
      "source": []
    },
    {
      "cell_type": "code",
      "execution_count": null,
      "metadata": {
        "id": "afN34GmcUO5v"
      },
      "outputs": [],
      "source": []
    },
    {
      "cell_type": "code",
      "execution_count": null,
      "metadata": {
        "id": "fpus2aWFUO8r"
      },
      "outputs": [],
      "source": []
    },
    {
      "cell_type": "code",
      "execution_count": null,
      "metadata": {
        "id": "77HtclPWUO_m"
      },
      "outputs": [],
      "source": []
    },
    {
      "cell_type": "code",
      "execution_count": null,
      "metadata": {
        "id": "dhye_dAFUPDJ"
      },
      "outputs": [],
      "source": []
    },
    {
      "cell_type": "code",
      "execution_count": null,
      "metadata": {
        "id": "CFt8TR1rUPGH"
      },
      "outputs": [],
      "source": []
    },
    {
      "cell_type": "code",
      "execution_count": null,
      "metadata": {
        "id": "2PB7QuK9UPJY"
      },
      "outputs": [],
      "source": []
    },
    {
      "cell_type": "code",
      "execution_count": null,
      "metadata": {
        "id": "WSlR0rL4UPMa"
      },
      "outputs": [],
      "source": []
    },
    {
      "cell_type": "code",
      "execution_count": null,
      "metadata": {
        "id": "5iYxVbLHUPPd"
      },
      "outputs": [],
      "source": []
    },
    {
      "cell_type": "code",
      "execution_count": null,
      "metadata": {
        "id": "I8mp_PYOUPSa"
      },
      "outputs": [],
      "source": []
    },
    {
      "cell_type": "code",
      "execution_count": null,
      "metadata": {
        "id": "TDv2B7p0UPVb"
      },
      "outputs": [],
      "source": []
    },
    {
      "cell_type": "code",
      "execution_count": null,
      "metadata": {
        "id": "fxXDlATzUPX6"
      },
      "outputs": [],
      "source": []
    },
    {
      "cell_type": "code",
      "execution_count": null,
      "metadata": {
        "id": "MSp3krMxUPZW"
      },
      "outputs": [],
      "source": []
    },
    {
      "cell_type": "code",
      "execution_count": null,
      "metadata": {
        "id": "3SrPxJFyUPoz"
      },
      "outputs": [],
      "source": []
    },
    {
      "cell_type": "code",
      "execution_count": null,
      "metadata": {
        "id": "q6HyHhyIUPrc"
      },
      "outputs": [],
      "source": []
    },
    {
      "cell_type": "code",
      "execution_count": null,
      "metadata": {
        "id": "w-AKxq7XUPuP"
      },
      "outputs": [],
      "source": []
    },
    {
      "cell_type": "code",
      "execution_count": null,
      "metadata": {
        "id": "1rradWaMUPxF"
      },
      "outputs": [],
      "source": []
    },
    {
      "cell_type": "code",
      "execution_count": null,
      "metadata": {
        "id": "-OCOAlkZUP0A"
      },
      "outputs": [],
      "source": []
    },
    {
      "cell_type": "code",
      "execution_count": null,
      "metadata": {
        "id": "_0PHUcFTUP2F"
      },
      "outputs": [],
      "source": []
    }
  ],
  "metadata": {
    "colab": {
      "provenance": []
    },
    "kernelspec": {
      "display_name": "Python 3",
      "name": "python3"
    },
    "language_info": {
      "name": "python"
    }
  },
  "nbformat": 4,
  "nbformat_minor": 0
}